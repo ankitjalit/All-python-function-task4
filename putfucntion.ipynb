{
 "cells": [
  {
   "cell_type": "markdown",
   "metadata": {},
   "source": []
  },
  {
   "cell_type": "markdown",
   "metadata": {},
   "source": [
    "# put\n",
    "The .put() method sends a PUT request to a web server and returns a response object."
   ]
  },
  {
   "cell_type": "code",
   "execution_count": 8,
   "metadata": {},
   "outputs": [
    {
     "name": "stdout",
     "output_type": "stream",
     "text": [
      "{'my_key': 'ankit, jalit!'}\n"
     ]
    }
   ],
   "source": [
    "import requests\n",
    "\n",
    "json = {\n",
    "  \"my_key\": \"ankit, jalit!\"\n",
    "}\n",
    "\n",
    "response = requests.put(\"https://httpbin.org/put\", json=json)\n",
    "\n",
    "print(response.json()[\"json\"])"
   ]
  },
  {
   "cell_type": "markdown",
   "metadata": {},
   "source": [
    "# post()\n",
    "\n",
    "The .post() method sends a POST request to a web server and it returns a response object."
   ]
  },
  {
   "cell_type": "markdown",
   "metadata": {},
   "source": [
    "# Example\n",
    "The .post() method can take in various parameters. These parameters allow a user to communicate additional information to the web server, such as data or JSON, to send in the request body to create or update a resource."
   ]
  },
  {
   "cell_type": "markdown",
   "metadata": {},
   "source": []
  },
  {
   "cell_type": "code",
   "execution_count": 9,
   "metadata": {},
   "outputs": [
    {
     "name": "stdout",
     "output_type": "stream",
     "text": [
      "200: OK\n"
     ]
    }
   ],
   "source": [
    "import requests\n",
    "\n",
    "data = {\n",
    "  \"my_key\": \"ankit_jalit\"\n",
    "}\n",
    "\n",
    "response = requests.post(\"https://codecademy.com\", data=data)\n",
    "\n",
    "print(f\"{response.status_code}: {response.reason}\")"
   ]
  },
  {
   "cell_type": "markdown",
   "metadata": {},
   "source": [
    "# .delete()\n",
    "The .delete() method sends a DELETE request to a web server; it returns a response object."
   ]
  },
  {
   "cell_type": "markdown",
   "metadata": {},
   "source": [
    "# Example\n",
    "The .delete() method sends a request to delete data from a web server. The response object it returns contains various types of data such as the webpage text, status code, and the reason for that response."
   ]
  },
  {
   "cell_type": "markdown",
   "metadata": {},
   "source": []
  },
  {
   "cell_type": "code",
   "execution_count": 17,
   "metadata": {},
   "outputs": [
    {
     "name": "stdout",
     "output_type": "stream",
     "text": [
      "200: OK\n"
     ]
    }
   ],
   "source": [
    "import requests\n",
    "\n",
    "response = requests.delete(\"https://httpbin.org/delete\")\n",
    "\n",
    "print(f\"{response.status_code}: {response.reason}\")"
   ]
  },
  {
   "cell_type": "code",
   "execution_count": null,
   "metadata": {},
   "outputs": [],
   "source": []
  }
 ],
 "metadata": {
  "kernelspec": {
   "display_name": "Python 3",
   "language": "python",
   "name": "python3"
  },
  "language_info": {
   "codemirror_mode": {
    "name": "ipython",
    "version": 3
   },
   "file_extension": ".py",
   "mimetype": "text/x-python",
   "name": "python",
   "nbconvert_exporter": "python",
   "pygments_lexer": "ipython3",
   "version": "3.11.5"
  }
 },
 "nbformat": 4,
 "nbformat_minor": 2
}
